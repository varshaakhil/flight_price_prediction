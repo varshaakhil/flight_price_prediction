{
  "nbformat": 4,
  "nbformat_minor": 0,
  "metadata": {
    "colab": {
      "name": "stream_fli8_price.ipynb",
      "provenance": [],
      "collapsed_sections": []
    },
    "kernelspec": {
      "name": "python3",
      "display_name": "Python 3"
    }
  },
  "cells": [
    {
      "cell_type": "code",
      "metadata": {
        "colab": {
          "base_uri": "https://localhost:8080/",
          "height": 626
        },
        "id": "L7VdH91pPL25",
        "outputId": "f2df5602-cd5e-40f2-e770-221c2e53b1b1"
      },
      "source": [
        "!pip install ipykernel==4.10 # only for colab ,and after this please restart"
      ],
      "execution_count": 1,
      "outputs": [
        {
          "output_type": "stream",
          "text": [
            "Collecting ipykernel==4.10\n",
            "  Using cached https://files.pythonhosted.org/packages/22/5e/69b0ae84e0cd7c8d4467e0a7b390c560d8c7642493329b15461b41e20fcc/ipykernel-4.10.0-py3-none-any.whl\n",
            "Requirement already satisfied: tornado>=4.0 in /usr/local/lib/python3.6/dist-packages (from ipykernel==4.10) (5.1.1)\n",
            "Requirement already satisfied: traitlets>=4.1.0 in /usr/local/lib/python3.6/dist-packages (from ipykernel==4.10) (4.3.3)\n",
            "Requirement already satisfied: ipython>=4.0.0 in /usr/local/lib/python3.6/dist-packages (from ipykernel==4.10) (5.5.0)\n",
            "Requirement already satisfied: jupyter-client in /usr/local/lib/python3.6/dist-packages (from ipykernel==4.10) (5.3.5)\n",
            "Requirement already satisfied: ipython-genutils in /usr/local/lib/python3.6/dist-packages (from traitlets>=4.1.0->ipykernel==4.10) (0.2.0)\n",
            "Requirement already satisfied: six in /usr/local/lib/python3.6/dist-packages (from traitlets>=4.1.0->ipykernel==4.10) (1.15.0)\n",
            "Requirement already satisfied: decorator in /usr/local/lib/python3.6/dist-packages (from traitlets>=4.1.0->ipykernel==4.10) (4.4.2)\n",
            "Requirement already satisfied: pexpect; sys_platform != \"win32\" in /usr/local/lib/python3.6/dist-packages (from ipython>=4.0.0->ipykernel==4.10) (4.8.0)\n",
            "Requirement already satisfied: pygments in /usr/local/lib/python3.6/dist-packages (from ipython>=4.0.0->ipykernel==4.10) (2.6.1)\n",
            "Requirement already satisfied: pickleshare in /usr/local/lib/python3.6/dist-packages (from ipython>=4.0.0->ipykernel==4.10) (0.7.5)\n",
            "Requirement already satisfied: prompt-toolkit<2.0.0,>=1.0.4 in /usr/local/lib/python3.6/dist-packages (from ipython>=4.0.0->ipykernel==4.10) (1.0.18)\n",
            "Requirement already satisfied: simplegeneric>0.8 in /usr/local/lib/python3.6/dist-packages (from ipython>=4.0.0->ipykernel==4.10) (0.8.1)\n",
            "Requirement already satisfied: setuptools>=18.5 in /usr/local/lib/python3.6/dist-packages (from ipython>=4.0.0->ipykernel==4.10) (51.1.1)\n",
            "Requirement already satisfied: jupyter-core>=4.6.0 in /usr/local/lib/python3.6/dist-packages (from jupyter-client->ipykernel==4.10) (4.7.0)\n",
            "Requirement already satisfied: python-dateutil>=2.1 in /usr/local/lib/python3.6/dist-packages (from jupyter-client->ipykernel==4.10) (2.8.1)\n",
            "Requirement already satisfied: pyzmq>=13 in /usr/local/lib/python3.6/dist-packages (from jupyter-client->ipykernel==4.10) (20.0.0)\n",
            "Requirement already satisfied: ptyprocess>=0.5 in /usr/local/lib/python3.6/dist-packages (from pexpect; sys_platform != \"win32\"->ipython>=4.0.0->ipykernel==4.10) (0.6.0)\n",
            "Requirement already satisfied: wcwidth in /usr/local/lib/python3.6/dist-packages (from prompt-toolkit<2.0.0,>=1.0.4->ipython>=4.0.0->ipykernel==4.10) (0.2.5)\n",
            "\u001b[31mERROR: pydeck 0.5.0 has requirement ipykernel>=5.1.2; python_version >= \"3.4\", but you'll have ipykernel 4.10.0 which is incompatible.\u001b[0m\n",
            "Installing collected packages: ipykernel\n",
            "  Found existing installation: ipykernel 5.4.2\n",
            "    Uninstalling ipykernel-5.4.2:\n",
            "      Successfully uninstalled ipykernel-5.4.2\n",
            "Successfully installed ipykernel-4.10.0\n"
          ],
          "name": "stdout"
        },
        {
          "output_type": "display_data",
          "data": {
            "application/vnd.colab-display-data+json": {
              "pip_warning": {
                "packages": [
                  "ipykernel"
                ]
              }
            }
          },
          "metadata": {
            "tags": []
          }
        }
      ]
    },
    {
      "cell_type": "code",
      "metadata": {
        "colab": {
          "base_uri": "https://localhost:8080/"
        },
        "id": "m1ZNSpFKPWNZ",
        "outputId": "dcfbe2d2-8764-4cd7-bdba-24b555d7b332"
      },
      "source": [
        "!pip install --upgrade streamlit -q"
      ],
      "execution_count": 2,
      "outputs": [
        {
          "output_type": "stream",
          "text": [
            "\u001b[31mERROR: google-colab 1.0.0 has requirement ipykernel~=4.10, but you'll have ipykernel 5.4.2 which is incompatible.\u001b[0m\n"
          ],
          "name": "stdout"
        }
      ]
    },
    {
      "cell_type": "code",
      "metadata": {
        "id": "tzU3Hke1PoW2"
      },
      "source": [
        "\r\n",
        "!pip install pyngrok -q"
      ],
      "execution_count": 3,
      "outputs": []
    },
    {
      "cell_type": "code",
      "metadata": {
        "colab": {
          "base_uri": "https://localhost:8080/"
        },
        "id": "AZe_RdYkPs1d",
        "outputId": "a6e9ba90-1ea6-41cb-e551-b2e2f48cb36a"
      },
      "source": [
        "from pyngrok import ngrok\r\n",
        "public_url = ngrok.connect(port='80')\r\n",
        "print (public_url)"
      ],
      "execution_count": 41,
      "outputs": [
        {
          "output_type": "stream",
          "text": [
            "2021-01-11 17:31:54.230 INFO    pyngrok.ngrok: Opening tunnel named: http-80-4ee497a6-7273-43a0-a633-8bb1208933d3\n",
            "2021-01-11 17:31:54.259 INFO    pyngrok.process.ngrok: t=2021-01-11T17:31:54+0000 lvl=info msg=\"no configuration paths supplied\"\n",
            "2021-01-11 17:31:54.261 INFO    pyngrok.process.ngrok: t=2021-01-11T17:31:54+0000 lvl=info msg=\"using configuration at default config path\" path=/root/.ngrok2/ngrok.yml\n",
            "2021-01-11 17:31:54.268 INFO    pyngrok.process.ngrok: t=2021-01-11T17:31:54+0000 lvl=info msg=\"open config file\" path=/root/.ngrok2/ngrok.yml err=nil\n",
            "2021-01-11 17:31:54.269 INFO    pyngrok.process.ngrok: t=2021-01-11T17:31:54+0000 lvl=info msg=\"starting web service\" obj=web addr=127.0.0.1:4040\n",
            "2021-01-11 17:31:54.630 INFO    pyngrok.process.ngrok: t=2021-01-11T17:31:54+0000 lvl=info msg=\"tunnel session started\" obj=tunnels.session\n",
            "2021-01-11 17:31:54.632 INFO    pyngrok.process.ngrok: t=2021-01-11T17:31:54+0000 lvl=info msg=\"client session established\" obj=csess id=b11bdeef130a\n",
            "2021-01-11 17:31:54.643 INFO    pyngrok.process.ngrok: t=2021-01-11T17:31:54+0000 lvl=info msg=start pg=/api/tunnels id=a37929add09f8e8c\n",
            "2021-01-11 17:31:54.646 INFO    pyngrok.process.ngrok: t=2021-01-11T17:31:54+0000 lvl=info msg=end pg=/api/tunnels id=a37929add09f8e8c status=200 dur=426.777µs\n",
            "2021-01-11 17:31:54.648 INFO    pyngrok.process.ngrok: t=2021-01-11T17:31:54+0000 lvl=info msg=start pg=/api/tunnels id=2e4652051c094d9e\n",
            "2021-01-11 17:31:54.649 INFO    pyngrok.process.ngrok: t=2021-01-11T17:31:54+0000 lvl=info msg=end pg=/api/tunnels id=2e4652051c094d9e status=200 dur=137.531µs\n",
            "2021-01-11 17:31:54.651 INFO    pyngrok.process.ngrok: t=2021-01-11T17:31:54+0000 lvl=info msg=start pg=/api/tunnels id=143c3a257dc5aa9a\n",
            "2021-01-11 17:31:54.794 INFO    pyngrok.process.ngrok: t=2021-01-11T17:31:54+0000 lvl=info msg=\"started tunnel\" obj=tunnels name=\"http-80-4ee497a6-7273-43a0-a633-8bb1208933d3 (http)\" addr=http://localhost:80 url=http://b7b6a4ab4b0d.ngrok.io\n"
          ],
          "name": "stderr"
        },
        {
          "output_type": "stream",
          "text": [
            "NgrokTunnel: \"http://b7b6a4ab4b0d.ngrok.io\" -> \"http://localhost:80\"\n"
          ],
          "name": "stdout"
        },
        {
          "output_type": "stream",
          "text": [
            "2021-01-11 17:31:54.799 INFO    pyngrok.process.ngrok: t=2021-01-11T17:31:54+0000 lvl=info msg=\"started tunnel\" obj=tunnels name=http-80-4ee497a6-7273-43a0-a633-8bb1208933d3 addr=http://localhost:80 url=https://b7b6a4ab4b0d.ngrok.io\n",
            "2021-01-11 17:31:54.800 INFO    pyngrok.process.ngrok: t=2021-01-11T17:31:54+0000 lvl=info msg=end pg=/api/tunnels id=143c3a257dc5aa9a status=201 dur=150.80211ms\n",
            "2021-01-11 17:31:54.814 INFO    pyngrok.process.ngrok: t=2021-01-11T17:31:54+0000 lvl=info msg=start pg=\"/api/tunnels/http-80-4ee497a6-7273-43a0-a633-8bb1208933d3 (http)\" id=a817b1bb5e82ad03\n"
          ],
          "name": "stderr"
        }
      ]
    },
    {
      "cell_type": "code",
      "metadata": {
        "id": "FpCy4IkUPy0h"
      },
      "source": [
        "import streamlit as st\r\n"
      ],
      "execution_count": 42,
      "outputs": []
    },
    {
      "cell_type": "code",
      "metadata": {
        "id": "2HWcrM-qQg_E"
      },
      "source": [
        "#!pip install pycaret --q"
      ],
      "execution_count": 43,
      "outputs": []
    },
    {
      "cell_type": "code",
      "metadata": {
        "colab": {
          "base_uri": "https://localhost:8080/"
        },
        "id": "6qmWtVLHP7Ar",
        "outputId": "1378e770-cd23-4ee8-cbe9-c21fc745d127"
      },
      "source": [
        "!streamlit run --server.port 80 stream_fli8_price_templ.py >/dev/null"
      ],
      "execution_count": 44,
      "outputs": [
        {
          "output_type": "stream",
          "text": [
            "2021-01-11 17:31:57.967 Initializing load_model()\n",
            "2021-01-11 17:31:57.968 load_model(verbose=True, authentication=None, platform=None, model_name=final_model)\n"
          ],
          "name": "stdout"
        },
        {
          "output_type": "stream",
          "text": [
            "2021-01-11 17:32:00.048 INFO    pyngrok.process.ngrok: t=2021-01-11T17:32:00+0000 lvl=info msg=\"join connections\" obj=join id=2f125ab88b68 l=127.0.0.1:80 r=103.70.198.49:15380\n",
            "2021-01-11 17:32:00.427 INFO    pyngrok.process.ngrok: t=2021-01-11T17:32:00+0000 lvl=info msg=\"join connections\" obj=join id=1835849fb003 l=127.0.0.1:80 r=103.70.198.49:21463\n",
            "2021-01-11 17:32:00.434 INFO    pyngrok.process.ngrok: t=2021-01-11T17:32:00+0000 lvl=info msg=\"join connections\" obj=join id=fe20830a6511 l=127.0.0.1:80 r=103.70.198.49:27262\n",
            "2021-01-11 17:32:03.136 INFO    pyngrok.process.ngrok: t=2021-01-11T17:32:03+0000 lvl=info msg=\"join connections\" obj=join id=b0e4f8536abd l=127.0.0.1:80 r=103.70.198.49:61628\n",
            "2021-01-11 17:32:03.538 INFO    pyngrok.process.ngrok: t=2021-01-11T17:32:03+0000 lvl=info msg=\"join connections\" obj=join id=f7a1daf31b24 l=127.0.0.1:80 r=103.70.198.49:55323\n",
            "2021-01-11 17:32:03.853 INFO    pyngrok.process.ngrok: t=2021-01-11T17:32:03+0000 lvl=info msg=\"join connections\" obj=join id=9ed1ee18da69 l=127.0.0.1:80 r=103.70.198.49:15380\n",
            "2021-01-11 17:32:03.874 INFO    pyngrok.process.ngrok: t=2021-01-11T17:32:03+0000 lvl=info msg=\"join connections\" obj=join id=0d067d226aaa l=127.0.0.1:80 r=103.70.198.49:21463\n"
          ],
          "name": "stderr"
        },
        {
          "output_type": "stream",
          "text": [
            "2021-01-11 17:32:07.422 Initializing load_model()\n",
            "2021-01-11 17:32:07.422 load_model(verbose=True, authentication=None, platform=None, model_name=final_model)\n",
            "2021-01-11 17:32:09.460 Initializing load_model()\n",
            "2021-01-11 17:32:09.462 load_model(verbose=True, authentication=None, platform=None, model_name=final_model)\n",
            "2021-01-11 17:32:11.603 Initializing load_model()\n",
            "2021-01-11 17:32:11.603 load_model(verbose=True, authentication=None, platform=None, model_name=final_model)\n",
            "2021-01-11 17:32:14.339 Initializing load_model()\n",
            "2021-01-11 17:32:14.340 load_model(verbose=True, authentication=None, platform=None, model_name=final_model)\n",
            "2021-01-11 17:32:16.153 Initializing load_model()\n",
            "2021-01-11 17:32:16.154 load_model(verbose=True, authentication=None, platform=None, model_name=final_model)\n",
            "2021-01-11 17:32:20.157 Initializing load_model()\n",
            "2021-01-11 17:32:20.158 load_model(verbose=True, authentication=None, platform=None, model_name=final_model)\n",
            "2021-01-11 17:32:22.564 Initializing load_model()\n",
            "2021-01-11 17:32:22.565 load_model(verbose=True, authentication=None, platform=None, model_name=final_model)\n",
            "2021-01-11 17:32:24.589 Initializing load_model()\n",
            "2021-01-11 17:32:24.590 load_model(verbose=True, authentication=None, platform=None, model_name=final_model)\n",
            "2021-01-11 17:32:26.095 Initializing load_model()\n",
            "2021-01-11 17:32:26.095 load_model(verbose=True, authentication=None, platform=None, model_name=final_model)\n",
            "2021-01-11 17:32:26.195 Initializing predict_model()\n",
            "2021-01-11 17:32:26.196 predict_model(display=None, ml_usecase=MLUsecase.REGRESSION, verbose=True, round=4, encoded_labels=True, probability_threshold=None, estimator=Pipeline(steps=[('dtypes',\n",
            "                 DataTypes_Auto_infer(categorical_features=['Airline', 'Source',\n",
            "                                                            'Destination',\n",
            "                                                            'Week_day'],\n",
            "                                      ml_usecase='regression',\n",
            "                                      numerical_features=['Arrival_min',\n",
            "                                                          'Arrival_hour',\n",
            "                                                          'Dep_min', 'Dep_hour',\n",
            "                                                          'Journey_month',\n",
            "                                                          'Journey_day',\n",
            "                                                          'Duration'],\n",
            "                                      target='Price')),\n",
            "                ('imputer',\n",
            "                 Simple_Imputer(categorical_strategy='most frequent',\n",
            "                                fill_value_categorica...\n",
            "                ('dummy', Dummify(target='Price')),\n",
            "                ('fix_perfect', Remove_100(target='Price')),\n",
            "                ('clean_names', Clean_Colum_Names()),\n",
            "                ('feature_select', 'passthrough'),\n",
            "                ('fix_multi',\n",
            "                 Fix_multicollinearity(correlation_with_target_preference=None,\n",
            "                                       target_variable='Price',\n",
            "                                       threshold=0.9)),\n",
            "                ('dfs', 'passthrough'), ('pca', 'passthrough'),\n",
            "                ['trained_model',\n",
            "                 <catboost.core.CatBoostRegressor object at 0x7f8ba4fc7128>]]))\n",
            "2021-01-11 17:32:26.198 Checking exceptions\n",
            "2021-01-11 17:32:26.198 Preloading libraries\n",
            "2021-01-11 17:32:26.233 NumExpr defaulting to 2 threads.\n"
          ],
          "name": "stdout"
        },
        {
          "output_type": "stream",
          "text": [
            "2021-01-11 17:38:08.071 INFO    pyngrok.process.ngrok: t=2021-01-11T17:38:08+0000 lvl=info msg=\"received stop request\" obj=app stopReq=\"{err:<nil> restart:false}\"\n",
            "2021-01-11 17:38:08.075 INFO    pyngrok.process.ngrok: t=2021-01-11T17:38:08+0000 lvl=info msg=\"session closing\" obj=tunnels.session err=nil\n"
          ],
          "name": "stderr"
        }
      ]
    }
  ]
}